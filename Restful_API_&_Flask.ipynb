{
  "nbformat": 4,
  "nbformat_minor": 0,
  "metadata": {
    "colab": {
      "provenance": []
    },
    "kernelspec": {
      "name": "python3",
      "display_name": "Python 3"
    },
    "language_info": {
      "name": "python"
    }
  },
  "cells": [
    {
      "cell_type": "code",
      "execution_count": null,
      "metadata": {
        "id": "1zFxf37PMNHg"
      },
      "outputs": [],
      "source": [
        "**Theory Questions:**"
      ]
    },
    {
      "cell_type": "markdown",
      "source": [
        "1. What is a RESTful API4?\n",
        "* A RESTful API (Representational State Transfer API) is a type of web service that allows different software systems to communicate over the internet using HTTP protocols.\n",
        "* its information from a server (like a website or app's database).\n",
        "* The server sends the information back, usually in JSON format.\n",
        "2. Explain the concept of API specification?\n",
        "* An API specification is a detailed, formal document that describes how an API behaves, what it can do, and how to use it. It acts like a blueprint for developers — explaining what requests are allowed, what responses will look like, and how systems can communicate with each other through the API.\n",
        "* API Specification:\n",
        "    * Endpoints\t- URLs that identify resources (e.g., /users, /products/1)\n",
        "    * HTTP Methods -\tWhat actions are allowed (GET, POST, PUT, DELETE)\n",
        "    * Request Parameters -\tWhat data you can send (e.g., ?limit=10)\n",
        "    * Request Body -\tThe structure of data sent in POST/PUT requests (usually JSON)\n",
        "    * Response Format - What the API sends back (status codes, headers, JSON data)\n",
        "    * Authentication -\tHow users are authorized to access the API (API keys, tokens)\n",
        "    * Error Handling -\tDescribes what error messages will look like and why they happen.\n",
        "3. What is Flask, and why is it popular for building APIs?\n",
        "* Flask is a lightweight web framework for Python that makes it easy to build web applications and APIs (Application Programming Interfaces). It is known for being simple, flexible, and easy to get started with, especially for beginners and small-to-medium projects.\n",
        "* Minimal and Lightweight\t-Flask doesn’t force any structure — you build only what you need. Great for microservices and REST APIs.\n",
        "* Easy to Learn -\tVery little code is needed to get started. Ideal for beginners and prototyping.\n",
        "* Extensible\t-You can add only the extensions you need (e.g., database, security, authentication).\n",
        "* Built-in Development Server\t- Comes with a fast debugger and reloader — good for quick testing.\n",
        "* Support for REST - \tIt easily supports RESTful routes using HTTP methods like GET, POST, PUT, and DELETE.\n",
        "* Strong Community and Ecosystem\tPlenty of tutorials, plugins, and documentation.\n",
        "4. What is routing in Flask?\n",
        "* Flask is a lightweight web framework for Python that makes it easy to build web applications and APIs (Application Programming Interfaces). It is known for being simple, flexible, and easy to get started with, especially for beginners and small-to-medium projects.\n",
        "* Flask is perfect for quickly building and deploying REST APIs.\n",
        "* It's used by startups, hobbyists, and even large companies when they need a flexible and fast Python-based web service.\n",
        "* It’s often a first choice for building microservices, prototypes, and API backends.\n",
        "5. How do you create a simple Flask application?\n",
        "* Creating a simple Flask application is easy and only takes a few steps.\n",
        "* Step 1. Install Flask\n",
        "* Step 2. Create a Python file (e.g., app.py)\n",
        "* Step 3.Run the App In your terminal, run: python app.py\n",
        "6. What are HTTP methods used in RESTful APIs?\n",
        "* RESTful APIs use standard HTTP methods to perform actions on resources. These methods define what kind of operation the client wants to perform on the server.\n",
        "* RESTful API using these methods  GET ,POST,PUT,PATCH & DELETE.\n",
        "7.What is the purpose of the @app.route() decorator in Flask?\n",
        "* In Flask, the @app.route() decorator is used to bind a specific URL path to a function (called a view function).\n",
        "* When a user visits this URL, run this function and return the response.\n",
        "* @app.route('/') means: \"When someone accesses the root URL /, run the home() function.\"\n",
        "* The function returns the content (usually HTML or text) that gets displayed in the browser.\n",
        "8. What is the difference between GET and POST HTTP methods?\n",
        "* GET and POST are two of the most commonly used HTTP methods in RESTful APIs and web applications, but they serve very different purposes.\n",
        "* GET Method:\n",
        "    * Purpose - \tTo retrieve data from the server.\n",
        "    * Data Sent\t- Sent via URL parameters (query string) — e.g., ?name=John.\n",
        "    * Security\t- Less secure — data is visible in the URL and browser history.\n",
        "    * Cacheable\t - Yes — browsers can cache responses.\n",
        "    * Side Effects -\tShould not change any data on the server.\n",
        "    * Idempotent - \tYes — multiple identical requests produce the same result.\n",
        "* POST Method:\n",
        "    * Purpose -\tTo send or submit data to the server (e.g., create a new record)\n",
        "    * Data Sent -\tSent in the request body, not visible in the URL\n",
        "    * Security -\tMore secure than GET (but still use HTTPS)\n",
        "    * Cacheable\t - No — responses are usually not cached\n",
        "    * Side Effects - Can modify data on the server (e.g., create, update)\n",
        "    * Idempotent -\tNo — same request sent multiple times may create multiple records.\n",
        "9. How do you handle errors in Flask API?\n",
        "* In a Flask API, error handling is essential for giving clear responses, preventing crashes, and improving the client experience. Flask provides several ways to catch and respond to errors cleanly.\n",
        "* @app.errorhandler() -\tHandle global error types like 404, 500.\n",
        "* abort(code)\t- Force an HTTP error.\n",
        "* return jsonify(...), status_code - Return structured custom error messages.\n",
        "* try-except - Handle runtime errors inside routes.\n",
        "* Custom Exceptions -\tBuild reusable and consistent error patterns.\n",
        "10. How do you connect Flask to a SQL database?\n",
        "* To connect Flask to a SQL database, the most common and beginner-friendly approach is to use Flask-SQLAlchemy, an extension that integrates SQLAlchemy (a powerful ORM) with Flask.\n",
        "* Install Flask-SQLAlchemy - Extension to use SQL in Flask\n",
        "* Configure DB URI - Connect to SQLite, MySQL, PostgreSQL, etc.\n",
        "* Create models - Python classes that represent tables\n",
        "* Use db.create_all() - Create database schema\n",
        "* Use session to add/query - db.session.add(), User.query.all()\n",
        "11. What is the role of Flask-SQLAlchemy?\n",
        "* Flask-SQLAlchemy is a Flask extension that provides seamless integration with SQLAlchemy, a powerful Object Relational Mapper (ORM) for Python. It simplifies using relational databases (like SQLite, MySQL, PostgreSQL) in Flask applications.\n",
        "* Flask-SQLAlchemy acts as a wrapper around the full SQLAlchemy toolkit.\n",
        "* It gives you convenient defaults and Flask-specific features, while still letting you drop down to raw SQLAlchemy if needed.\n",
        "12. What are Flask blueprints, and how are they useful?\n",
        "* Flask Blueprints are a modular structure that allows you to break a Flask application into smaller, organized parts. Think of a blueprint as a \"mini app\" with its own routes, views, and logic that can be plugged into the main Flask app.\n",
        "* **Modularity** \tOrganize large apps into logical sections like auth, admin, api, etc.\n",
        "* **Code Reusability**\tReuse the same blueprint across different projects or apps.\n",
        "* **Cleaner Project Structure** \tSeparates concerns and keeps your codebase clean and scalable.\n",
        "* **Collaboration Friendly**\tDifferent teams or developers can work on separate blueprints independently.\n",
        "13. What is the purpose of Flask's request object?\n",
        "* In Flask, the request object gives you access to all the incoming data from a client’s HTTP request — such as form data, query parameters, JSON body, headers, and more.\n",
        "* request.args- Get query string parameters (GET data)\n",
        "* request.form-\tGet form fields submitted via POST\n",
        "* request.json-\tAccess JSON data sent in the request body\n",
        "* request.data-\tRaw request body (bytes)\n",
        "* request.method-\tHTTP method used (GET, POST, etc.)\n",
        "* request.headers-\tAccess request headers\n",
        "* request.cookies-\tAccess cookies sent by the client\n",
        "*request.files-\tAccess uploaded files.\n",
        "14. How do you create a RESTful API endpoint using Flask?\n",
        "* Creating a RESTful API endpoint in Flask involves:\n",
        "  * Setting up a Flask app.\n",
        "  * Creating routes (endpoints).\n",
        "  * Using appropriate HTTP methods like GET, POST, PUT, DELETE.\n",
        "  * Returning JSON responses.\n",
        "15. What is the purpose of Flask's jsonify() function?\n",
        "* Flask’s jsonify() function is used to convert Python data structures (like dictionaries and lists) into JSON format and return them as an HTTP response. It also sets the correct MIME type (Content-Type: application/json), which tells the client that the response is in JSON.\n",
        "* Converts Python dict/list → JSON -- Makes data web-friendly\n",
        "* Adds correct HTTP headers\t -- Sets Content-Type: application/json\n",
        "* Works well with Response objects --\tReturns properly formatted HTTP responses\n",
        "* Handles Unicode and special characters safely -- Avoids manual encoding issues.\n",
        "16. Explain Flask’s url_for() function?\n",
        "* Flask’s url_for() function is used to dynamically build URLs for view functions (routes) using their function names, rather than hardcoding the URLs. This helps keep your code more flexible, maintainable, and less error-prone.\n",
        "* Generating internal links in templates or views\n",
        "* Redirecting with redirect(url_for(...))\n",
        "* Avoiding hardcoded URLs.\n",
        "17. How does Flask handle static files (CSS, JavaScript, etc.)?\n",
        "* Flask handles static files (like CSS, JavaScript, images, etc.) using a special folder named static/. This allows you to easily include front-end assets in your web app.\n",
        "* 1. Default Folder Structure:\n",
        "   * Flask expects static files to be placed in a directory called static.\n",
        "* 2. Linking Static Files in Templates:\n",
        "   * Inside your HTML templates (in the templates/ folder), use url_for('static', filename='...') to include static files safely.\n",
        "* 3. How Flask Serves Static Files:\n",
        "   * Flask automatically creates a route for static files.\n",
        "18. What is an API specification, and how does it help in building a Flask API?\n",
        "* An API specification is a formal description of how an API works — what endpoints it exposes, what inputs it accepts, and what outputs it returns. It acts as a contract between the client (who uses the API) and the server (which provides the API).\n",
        "* 1. Design Before Code - You can plan the API structure clearly before writing any Flask code.\n",
        "* 2. Documentation - Tools like Swagger or Redoc can auto-generate interactive API docs from the spec.\n",
        "* 3. Validation - You can use libraries (like flask-smorest or connexion) to validate requests and responses based on the specification.\n",
        "* 4. Team Collaboration - Frontend, backend, and QA teams can all work off the same API blueprint.\n",
        "* 5. Mocking & Testing - Mock servers can be generated from the spec to test frontend code without a live backend.\n",
        "19. What are HTTP status codes, and why are they important in a Flask API?\n",
        "* HTTP status codes are three-digit numbers returned by a server in response to a client's HTTP request. They indicate the result of the request — whether it was successful, failed, or something else.\n",
        "* In a Flask API, status codes help clients understand what happened during their request and how to handle the response.\n",
        "* **Communicate clearly**\tHelps client understand success/failure.\n",
        "* **Standardized behavior**\tWorks the same across all HTTP clients.\n",
        "* **Debugging & logging**\tEasier to trace errors.\n",
        "* **API automation**\tHelps tools & frontends react correctly.\n",
        "20. How do you handle POST requests in Flask?\n",
        "* In Flask, a POST request is typically used to send data from the client to the server, such as creating a new resource (e.g., user, blog post, etc.).\n",
        "* @app.route(..., methods=['POST']) -\tTells Flask to listen for POST requests on /users.\n",
        "* request.get_json() -\tExtracts the incoming JSON payload.\n",
        "* Return jsonify(...)\t - Sends back a JSON response.\n",
        "* , 201\t- Sets the HTTP status code to 201 Created.\n",
        "21. How would you secure a Flask API?\n",
        "* Securing a Flask API is essential to protect your data, users, and system from unauthorized access and attacks. Here's a structured overview of how to secure a Flask API:\n",
        "* Authentication --- \tJWT, OAuth, API Key\n",
        "* Authorization\t --- Role-based access\n",
        "* Input Validation ---\tMarshmallow, ORM\n",
        "* HTTPS ---\tEncrypted traffic\n",
        "* CORS ---\tControl external access\n",
        "* Rate Limiting ---\tFlask-Limiter\n",
        "* Cookie Security ---\tSecure, HttpOnly\n",
        "* Error Handling ---\tCustom error responses.\n",
        "22. What is the significance of the Flask-RESTful extension?\n",
        "* Flask-RESTful is an extension for Flask that helps you build REST APIs quickly and easily by adding:\n",
        "   * Cleaner routing\n",
        "   * Resource-based structure (class-based views)\n",
        "   * Built-in request parsing and error handling\n",
        "* Resource classes - Encapsulates endpoints\n",
        "* reqparse -\tParses and validates request data\n",
        "* api.add_resource() -\tMaps class to URL routes\n",
        "* Auto error/status code\t- Handles common HTTP logic.\n",
        "23. What is the role of Flask’s session object?\n",
        "* Flask's session object is used to store data across requests for a specific user — typically for things like user login state, shopping cart, or other per-user data.\n",
        "* It behaves like a Python dictionary and allows you to persist information between HTTP requests securely via cookies.\n",
        "* Flask stores session data on the client side, inside a cookie.\n",
        "* The data is signed cryptographically to prevent tampering.\n",
        "* You set a secret key to enable this protection.\n",
        "\n",
        "\n"
      ],
      "metadata": {
        "id": "PExPxGIcN55H"
      }
    },
    {
      "cell_type": "markdown",
      "source": [
        "**Practical Questions**"
      ],
      "metadata": {
        "id": "489mlxtbBKuH"
      }
    },
    {
      "cell_type": "markdown",
      "source": [
        " 1.How do you create a basic Flask application?"
      ],
      "metadata": {
        "id": "YYIoMeU4BROL"
      }
    },
    {
      "cell_type": "code",
      "source": [
        "from flask import Flask\n",
        "\n",
        "# Create the Flask application\n",
        "app = Flask(__name__)\n",
        "\n",
        "# Define a route\n",
        "@app.route('/')\n",
        "def home():\n",
        "    return \"Hello, Flask!\"\n",
        "\n",
        "# Run the app\n",
        "if __name__ == '__main__':\n",
        "    app.run(debug=True)"
      ],
      "metadata": {
        "colab": {
          "base_uri": "https://localhost:8080/"
        },
        "id": "iIpih-e0Blej",
        "outputId": "9ce62531-78d7-4df6-ea82-9f6416706683"
      },
      "execution_count": null,
      "outputs": [
        {
          "output_type": "stream",
          "name": "stdout",
          "text": [
            " * Serving Flask app '__main__'\n",
            " * Debug mode: on\n"
          ]
        },
        {
          "output_type": "stream",
          "name": "stderr",
          "text": [
            "INFO:werkzeug:\u001b[31m\u001b[1mWARNING: This is a development server. Do not use it in a production deployment. Use a production WSGI server instead.\u001b[0m\n",
            " * Running on http://127.0.0.1:5000\n",
            "INFO:werkzeug:\u001b[33mPress CTRL+C to quit\u001b[0m\n",
            "INFO:werkzeug: * Restarting with stat\n"
          ]
        }
      ]
    },
    {
      "cell_type": "markdown",
      "source": [
        "2. How do you serve static files like images or CSS in Flask?"
      ],
      "metadata": {
        "id": "uJPcfaQlcg7N"
      }
    },
    {
      "cell_type": "code",
      "source": [
        "<!-- templates/index.html -->\n",
        "<!DOCTYPE html>\n",
        "<html>\n",
        "<head>\n",
        "  <link rel=\"stylesheet\" href=\"{{ url_for('static', filename='css/style.css') }}\">\n",
        "</head>\n",
        "<body>\n",
        "  <h1>Hello Flask</h1>\n",
        "  <img src=\"{{ url_for('static', filename='images/logo.png') }}\" alt=\"Logo\">\n",
        "  <script src=\"{{ url_for('static', filename='js/script.js') }}\"></script>\n",
        "</body>\n",
        "</html>\n",
        "from flask import Flask, render_template\n",
        "\n",
        "app = Flask(__name__)\n",
        "\n",
        "@app.route('/')\n",
        "def index():\n",
        "    return render_template('index.html')\n",
        "\n",
        "if __name__ == '__main__':\n",
        "    app.run(debug=True)"
      ],
      "metadata": {
        "id": "sEayKFioc342"
      },
      "execution_count": null,
      "outputs": []
    },
    {
      "cell_type": "markdown",
      "source": [],
      "metadata": {
        "id": "DuCGyi9EMl6A"
      }
    },
    {
      "cell_type": "markdown",
      "source": [
        "3. How do you define different routes with different HTTP methods in Flask?"
      ],
      "metadata": {
        "id": "8DVUQqWkdv5j"
      }
    },
    {
      "cell_type": "code",
      "source": [
        "@app.route('/path', methods=['GET', 'POST', 'PUT', 'DELETE'])\n",
        "def some_function():\n",
        "    if request.method == 'GET':\n",
        "        return 'GET request'\n",
        "    elif request.method == 'POST':\n",
        "        return 'POST request'\n",
        "    elif request.method == 'PUT':\n",
        "        return 'PUT request'\n",
        "    elif request.method == 'DELETE':\n",
        "        return 'DELETE request'\n",
        "\n",
        "from flask import Flask, request\n",
        "\n",
        "app = Flask(__name__)\n",
        "\n",
        "@app.route('/resource', methods=['GET', 'POST'])\n",
        "def resource():\n",
        "    if request.method == 'GET':\n",
        "        return \"You sent a GET request\"\n",
        "    elif request.method == 'POST':\n",
        "        data = request.get_json()\n",
        "        return f\"You sent a POST request with data: {data}\"\n",
        "\n",
        "@app.route('/item/<int:item_id>', methods=['PUT', 'DELETE'])\n",
        "def modify_item(item_id):\n",
        "    if request.method == 'PUT':\n",
        "        return f\"Item {item_id} updated!\"\n",
        "    elif request.method == 'DELETE':\n",
        "        return f\"Item {item_id} deleted!\"\n"
      ],
      "metadata": {
        "id": "3v9BeaYAeDYv"
      },
      "execution_count": 5,
      "outputs": []
    },
    {
      "cell_type": "markdown",
      "source": [
        "4.How do you render HTML templates in Flask?"
      ],
      "metadata": {
        "id": "TpdVczKieih9"
      }
    },
    {
      "cell_type": "code",
      "source": [
        "<!DOCTYPE html>\n",
        "<html>\n",
        "<head>\n",
        "  <title>Home</title>\n",
        "</head>\n",
        "<body>\n",
        "  <h1>Welcome to the Home Page</h1>\n",
        "</body>\n",
        "</html>\n",
        "\n",
        "<!DOCTYPE html>\n",
        "<html>\n",
        "<head>\n",
        "  <title>About</title>\n",
        "</head>\n",
        "<body>\n",
        "  <h1>About Us</h1>\n",
        "</body>\n",
        "</html>\n",
        "\n",
        "from flask import Flask, render_template\n",
        "\n",
        "app = Flask(__name__)\n",
        "\n",
        "@app.route('/')\n",
        "def home():\n",
        "    return render_template('index.html')\n",
        "\n",
        "@app.route('/about')\n",
        "def about():\n",
        "    return render_template('about.html')\n",
        "\n",
        "if __name__ == '__main__':\n",
        "    app.run(debug=True)\n",
        "\n",
        "@app.route('/user/<name>')\n",
        "def user(name):\n",
        "    return render_template('user.html', username=name)"
      ],
      "metadata": {
        "id": "PlEhpWJvewId"
      },
      "execution_count": null,
      "outputs": []
    },
    {
      "cell_type": "markdown",
      "source": [
        "5. How can you generate URLs for routes in Flask using url_for?"
      ],
      "metadata": {
        "id": "2D8tTdNLfKB_"
      }
    },
    {
      "cell_type": "code",
      "source": [
        "from flask import Flask, url_for\n",
        "\n",
        "app = Flask(__name__)\n",
        "\n",
        "@app.route('/')\n",
        "def home():\n",
        "    return 'Home Page'\n",
        "\n",
        "@app.route('/user/<username>')\n",
        "def profile(username):\n",
        "    return f'Profile: {username}'\n",
        "\n",
        "with app.test_request_context():\n",
        "    print(url_for('home'))\n",
        "    print(url_for('profile', username='bob'))\n",
        "    <!-- templates/nav.html -->\n",
        "<a href=\"{{ url_for('home') }}\">Home</a>\n",
        "<a href=\"{{ url_for('profile', username='alice') }}\">Alice's Profile</a>\n",
        "<link rel=\"stylesheet\" href=\"{{ url_for('static', filename='css/style.css') }}\">"
      ],
      "metadata": {
        "id": "1deWKPJLfXmS"
      },
      "execution_count": null,
      "outputs": []
    },
    {
      "cell_type": "markdown",
      "source": [
        "6.How do you handle forms in Flask?"
      ],
      "metadata": {
        "id": "wHI_vuX1fy9t"
      }
    },
    {
      "cell_type": "code",
      "source": [
        "from flask import Flask, request, render_template\n",
        "\n",
        "app = Flask(__name__)\n",
        "\n",
        "@app.route('/form', methods=['GET', 'POST'])\n",
        "def handle_form():\n",
        "    if request.method == 'POST':\n",
        "        username = request.form['username']\n",
        "        return f\"Hello, {username}!\"\n",
        "    return render_template('form.html')\n",
        "\n",
        "if __name__ == '__main__':\n",
        "    app.run(debug=True)\n",
        "\n",
        "\n",
        "\n",
        "    <!DOCTYPE html>\n",
        "<html>\n",
        "<head>\n",
        "  <title>Form Example</title>\n",
        "</head>\n",
        "<body>\n",
        "  <h1>Submit Your Name</h1>\n",
        "  <form method=\"POST\">\n",
        "    <label>Name:</label>\n",
        "    <input type=\"text\" name=\"username\">\n",
        "    <input type=\"submit\" value=\"Submit\">\n",
        "  </form>\n",
        "</body>\n",
        "</html>"
      ],
      "metadata": {
        "colab": {
          "base_uri": "https://localhost:8080/"
        },
        "id": "5AIcRO_8f8Gd",
        "outputId": "907169a4-dc5e-4976-fcc0-cd0910eb0251"
      },
      "execution_count": 10,
      "outputs": [
        {
          "output_type": "stream",
          "name": "stdout",
          "text": [
            " * Serving Flask app '__main__'\n",
            " * Debug mode: on\n"
          ]
        },
        {
          "output_type": "stream",
          "name": "stderr",
          "text": [
            "INFO:werkzeug:\u001b[31m\u001b[1mWARNING: This is a development server. Do not use it in a production deployment. Use a production WSGI server instead.\u001b[0m\n",
            " * Running on http://127.0.0.1:5000\n",
            "INFO:werkzeug:\u001b[33mPress CTRL+C to quit\u001b[0m\n",
            "INFO:werkzeug: * Restarting with stat\n"
          ]
        }
      ]
    },
    {
      "cell_type": "markdown",
      "source": [
        "7.How can you validate form data in Flask?"
      ],
      "metadata": {
        "id": "8srRHCX1gQlT"
      }
    },
    {
      "cell_type": "code",
      "source": [
        "from flask import Flask, request, render_template\n",
        "\n",
        "app = Flask(__name__)\n",
        "\n",
        "@app.route('/register', methods=['GET', 'POST'])\n",
        "def register():\n",
        "    error = None\n",
        "    if request.method == 'POST':\n",
        "        username = request.form.get('username')\n",
        "        password = request.form.get('password')\n",
        "\n",
        "        if not username or not password:\n",
        "            error = 'All fields are required!'\n",
        "        elif len(password) < 6:\n",
        "            error = 'Password must be at least 6 characters long.'\n",
        "        else:\n",
        "            return f\"Welcome, {username}!\"\n",
        "\n",
        "    return render_template('register.html', error=error)\n",
        "\n",
        "    from flask import Flask, render_template\n",
        "from flask_wtf import FlaskForm\n",
        "from wtforms import StringField, PasswordField, SubmitField\n",
        "from wtforms.validators import DataRequired, Length\n",
        "\n",
        "app = Flask(__name__)\n",
        "app.secret_key = 'your-secret-key'  # Needed for CSRF protection\n",
        "\n",
        "class RegistrationForm(FlaskForm):\n",
        "    username = StringField('Username', validators=[DataRequired()])\n",
        "    password = PasswordField('Password', validators=[DataRequired(), Length(min=6)])\n",
        "    submit = SubmitField('Register')\n",
        "\n",
        "@app.route('/register', methods=['GET', 'POST'])\n",
        "def register():\n",
        "    form = RegistrationForm()\n",
        "    if form.validate_on_submit():\n",
        "        return f\"Welcome, {form.username.data}!\"\n",
        "    return render_template('register_wtf.html', form=form)\n",
        "\n",
        "    <form method=\"POST\">\n",
        "  <p><input type=\"text\" name=\"username\" placeholder=\"Username\"></p>\n",
        "  <p><input type=\"password\" name=\"password\" placeholder=\"Password\"></p>\n",
        "  <p><input type=\"submit\" value=\"Register\"></p>\n",
        "  {% if error %}\n",
        "    <p style=\"color: red;\">{{ error }}</p>\n",
        "  {% endif %}\n",
        "</form>"
      ],
      "metadata": {
        "id": "N0VB0vJbgZZs"
      },
      "execution_count": null,
      "outputs": []
    },
    {
      "cell_type": "markdown",
      "source": [
        "8.How do you manage sessions in Flask?\n"
      ],
      "metadata": {
        "id": "VSg33XTjgvkL"
      }
    },
    {
      "cell_type": "code",
      "source": [
        "from flask import Flask, session, redirect, url_for, request\n",
        "\n",
        "app = Flask(__name__)\n",
        "app.secret_key = 'supersecretkey'\n",
        "\n",
        "@app.route('/')\n",
        "def index():\n",
        "    if 'username' in session:\n",
        "        return f\"Logged in as {session['username']}\"\n",
        "    return 'You are not logged in'\n",
        "\n",
        "@app.route('/login', methods=['GET', 'POST'])\n",
        "def login():\n",
        "    if request.method == 'POST':\n",
        "        session['username'] = request.form['username']\n",
        "        return redirect(url_for('index'))\n",
        "    return '''\n",
        "        <form method=\"post\">\n",
        "            <p><input type=text name=username>\n",
        "            <p><input type=submit value=Login>\n",
        "        </form>\n",
        "    '''\n",
        "\n",
        "@app.route('/logout')\n",
        "def logout():\n",
        "    session.pop('username', None)\n",
        "    return redirect(url_for('index'))"
      ],
      "metadata": {
        "id": "-go1j4BMg-d1"
      },
      "execution_count": null,
      "outputs": []
    },
    {
      "cell_type": "markdown",
      "source": [
        "9. How do you redirect to a different route in Flask?"
      ],
      "metadata": {
        "id": "F0FOX_BrhCss"
      }
    },
    {
      "cell_type": "code",
      "source": [
        "from flask import Flask, redirect, url_for\n",
        "\n",
        "app = Flask(__name__)\n",
        "\n",
        "@app.route('/')\n",
        "def home():\n",
        "    return \"Welcome to the Home Page!\"\n",
        "\n",
        "@app.route('/login')\n",
        "def login():\n",
        "    return \"Please log in.\"\n",
        "\n",
        "@app.route('/go-to-login')\n",
        "def go_to_login():\n",
        "    return redirect(url_for('login'))\n",
        "    return redirect(\"https://www.google.com\")\n",
        "    url_for('profile', username='alice')"
      ],
      "metadata": {
        "id": "ZONe0p1chOvf"
      },
      "execution_count": 17,
      "outputs": []
    },
    {
      "cell_type": "markdown",
      "source": [
        "10. How do you handle errors in Flask (e.g., 404)?"
      ],
      "metadata": {
        "id": "ckGu5Fekh4Y2"
      }
    },
    {
      "cell_type": "code",
      "source": [
        "@app.errorhandler(404)\n",
        "def page_not_found(error):\n",
        "    return \"This page does not exist.\", 404\n",
        "    from flask import Flask, render_template\n",
        "\n",
        "app = Flask(__name__)\n",
        "\n",
        "@app.route('/')\n",
        "def home():\n",
        "    return 'Welcome to the homepage!'\n",
        "\n",
        "@app.route('/crash')\n",
        "def crash():\n",
        "    # This will trigger a 500 error\n",
        "    return 1 / 0\n",
        "\n",
        "# Custom 404 error handler\n",
        "@app.errorhandler(404)\n",
        "def not_found_error(error):\n",
        "    return render_template('404.html'), 404\n",
        "\n",
        "# Custom 500 error handler\n",
        "@app.errorhandler(500)\n",
        "def internal_error(error):\n",
        "    return render_template('500.html'), 500\n",
        "\n",
        "\n",
        "<!DOCTYPE html>\n",
        "<html>\n",
        "<head><title>Page Not Found</title></head>\n",
        "<body>\n",
        "  <h1>404 - Page Not Found</h1>\n",
        "  <p>Oops! The page you are looking for doesn't exist.</p>\n",
        "</body>\n",
        "</html>"
      ],
      "metadata": {
        "id": "92XAfD_diDfF"
      },
      "execution_count": 18,
      "outputs": []
    },
    {
      "cell_type": "markdown",
      "source": [
        "11. How do you structure a Flask app using Blueprints?"
      ],
      "metadata": {
        "id": "OIJmawVAiPm6"
      }
    },
    {
      "cell_type": "code",
      "source": [
        "from flask import Blueprint, render_template\n",
        "\n",
        "main = Blueprint('main', __name__)\n",
        "\n",
        "@main.route('/')\n",
        "def home():\n",
        "    return render_template('home.html')\n",
        "\n",
        "from flask import Flask\n",
        "\n",
        "def create_app():\n",
        "    app = Flask(__name__)\n",
        "\n",
        "    # Import blueprints\n",
        "    from .main.routes import main\n",
        "    from .auth.routes import auth\n",
        "\n",
        "    # Register blueprints\n",
        "    app.register_blueprint(main)\n",
        "    app.register_blueprint(auth, url_prefix='/auth')  # Optional prefix\n",
        "\n",
        "    return app\n",
        "\n",
        "    from app import create_app\n",
        "\n",
        "app = create_app()\n",
        "\n",
        "if __name__ == '__main__':\n",
        "    app.run(debug=True)"
      ],
      "metadata": {
        "id": "l4kYHn8Winzx"
      },
      "execution_count": null,
      "outputs": []
    },
    {
      "cell_type": "markdown",
      "source": [
        "12. How do you define a custom Jinja filter in Flask?"
      ],
      "metadata": {
        "id": "6PFqKY5ai4ES"
      }
    },
    {
      "cell_type": "code",
      "source": [
        "def reverse_string(s):\n",
        "    return s[::-1]\n",
        "from flask import Flask\n",
        "\n",
        "app = Flask(__name__)\n",
        "\n",
        "@app.template_filter('reverse')\n",
        "def reverse_string(s):\n",
        "    return s[::-1]\n",
        "app.jinja_env.filters['reverse'] = reverse_string\n",
        "@app.route('/')\n",
        "def index():\n",
        "    return render_template('index.html', name='Flask')"
      ],
      "metadata": {
        "id": "9SlVrRJQjBAy"
      },
      "execution_count": 20,
      "outputs": []
    },
    {
      "cell_type": "markdown",
      "source": [
        "13. How can you redirect with query parameters in Flask?"
      ],
      "metadata": {
        "id": "GiawJAndjPAz"
      }
    },
    {
      "cell_type": "code",
      "source": [
        "from flask import Flask, redirect, url_for, request\n",
        "\n",
        "app = Flask(__name__)\n",
        "\n",
        "@app.route('/start')\n",
        "def start():\n",
        "    # Redirect to /destination with query parameters\n",
        "    return redirect(url_for('destination', name='Jeeva', age=25))\n",
        "\n",
        "@app.route('/destination')\n",
        "def destination():\n",
        "    name = request.args.get('name')\n",
        "    age = request.args.get('age')\n",
        "    return f'Hello {name}, you are {age} years old.'"
      ],
      "metadata": {
        "id": "gOIeCiehjgby"
      },
      "execution_count": 22,
      "outputs": []
    },
    {
      "cell_type": "markdown",
      "source": [
        "14. How do you return JSON responses in Flask?"
      ],
      "metadata": {
        "id": "kEqMrd_YjtwM"
      }
    },
    {
      "cell_type": "code",
      "source": [
        "from flask import Flask, jsonify\n",
        "\n",
        "app = Flask(__name__)\n",
        "\n",
        "@app.route('/api/data')\n",
        "def get_data():\n",
        "    data = {'name': 'Jeeva', 'age': 25, 'location': 'India'}\n",
        "    return jsonify(data)\n",
        "    return jsonify({'message': 'Created successfully'}), 201\n",
        "from flask import Response\n",
        "import json\n",
        "\n",
        "@app.route('/manual')\n",
        "def manual():\n",
        "    data = {'status': 'ok'}\n",
        "    return Response(json.dumps(data), mimetype='application/json')\n"
      ],
      "metadata": {
        "id": "AYtD4UjEj6OC"
      },
      "execution_count": 38,
      "outputs": []
    },
    {
      "cell_type": "markdown",
      "source": [
        "15. How do you capture URL parameters in Flask?"
      ],
      "metadata": {
        "id": "V7p0wlTilHqB"
      }
    },
    {
      "cell_type": "code",
      "source": [
        "@app.route('/user/<username>')\n",
        "def show_user(username):\n",
        "    return f'Hello, {Jeeva}!'\n",
        "\n",
        "@app.route('/post/<int:post_id>')\n",
        "def show_post(post_id):\n",
        "    return f'Post ID: {post_id}'\n",
        "@app.route('/file/<path:file_path>')\n",
        "def get_file(file_path):\n",
        "    return f'Requested file: {file_path}'"
      ],
      "metadata": {
        "id": "ipZSa7eqlONR"
      },
      "execution_count": null,
      "outputs": []
    }
  ]
}